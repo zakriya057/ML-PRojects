{
 "cells": [
  {
   "cell_type": "code",
   "execution_count": 1,
   "id": "c7359e5e",
   "metadata": {
    "_cell_guid": "b1076dfc-b9ad-4769-8c92-a6c4dae69d19",
    "_uuid": "8f2839f25d086af736a60e9eeb907d3b93b6e0e5",
    "execution": {
     "iopub.execute_input": "2021-07-15T19:23:02.472992Z",
     "iopub.status.busy": "2021-07-15T19:23:02.472407Z",
     "iopub.status.idle": "2021-07-15T19:23:02.671911Z",
     "shell.execute_reply": "2021-07-15T19:23:02.671283Z",
     "shell.execute_reply.started": "2021-07-15T18:09:55.877713Z"
    },
    "papermill": {
     "duration": 0.223365,
     "end_time": "2021-07-15T19:23:02.672062",
     "exception": false,
     "start_time": "2021-07-15T19:23:02.448697",
     "status": "completed"
    },
    "tags": []
   },
   "outputs": [],
   "source": [
    "import numpy as np # linear algebra\n",
    "import pandas as pd # data processing, CSV file I/O (e.g. pd.read_csv)\n",
    "\n",
    "\n",
    "\n",
    "import os\n",
    "import cv2\n",
    "import pickle\n",
    "\n",
    "\n",
    "data=[]"
   ]
  },
  {
   "cell_type": "code",
   "execution_count": 2,
   "id": "5c6a62e7",
   "metadata": {
    "execution": {
     "iopub.execute_input": "2021-07-15T19:23:02.704317Z",
     "iopub.status.busy": "2021-07-15T19:23:02.703801Z",
     "iopub.status.idle": "2021-07-15T19:24:41.895729Z",
     "shell.execute_reply": "2021-07-15T19:24:41.896148Z",
     "shell.execute_reply.started": "2021-07-15T18:23:39.904348Z"
    },
    "papermill": {
     "duration": 99.212166,
     "end_time": "2021-07-15T19:24:41.896300",
     "exception": false,
     "start_time": "2021-07-15T19:23:02.684134",
     "status": "completed"
    },
    "tags": []
   },
   "outputs": [
    {
     "name": "stdout",
     "output_type": "stream",
     "text": [
      "14367\n"
     ]
    }
   ],
   "source": [
    "directory='../input/blood-cells/dataset-master/dataset-master/JPEGImages'\n",
    "imagesize=(100,100)\n",
    "counter=0\n",
    "x=0\n",
    "for img in os.listdir(directory):\n",
    "    x+=1\n",
    "    img_path=os.path.join(directory,img)\n",
    "    image=cv2.imread(img_path,0)\n",
    "    image=cv2.resize(image,imagesize)\n",
    "    data.append([image,'B'])\n",
    "directory='../input/microsoft-catsvsdogs-dataset/PetImages/Cat'\n",
    "for img in os.listdir(directory):\n",
    "    x+=1\n",
    "    img_path=os.path.join(directory,img)\n",
    "    image=cv2.imread(img_path,0)\n",
    "    try:\n",
    "        image=cv2.resize(image,imagesize)\n",
    "        data.append([image,'C'])\n",
    "    except:\n",
    "        pass\n",
    "    if counter==1500:\n",
    "        break\n",
    "    \n",
    "directory='../input/microsoft-catsvsdogs-dataset/PetImages/Dog'\n",
    "imagesize=(100,100)\n",
    "for img in os.listdir(directory):\n",
    "    x+=1\n",
    "    img_path=os.path.join(directory,img)\n",
    "    image=cv2.imread(img_path,0)\n",
    "    try:\n",
    "        image=cv2.resize(image,imagesize)\n",
    "        data.append([image,'D'])\n",
    "    except:\n",
    "        pass\n",
    "    counter+=1\n",
    "    if counter==1500:\n",
    "        break\n",
    "print(x)"
   ]
  },
  {
   "cell_type": "code",
   "execution_count": 3,
   "id": "da5d9e5f",
   "metadata": {
    "execution": {
     "iopub.execute_input": "2021-07-15T19:24:41.926843Z",
     "iopub.status.busy": "2021-07-15T19:24:41.926056Z",
     "iopub.status.idle": "2021-07-15T19:24:41.929172Z",
     "shell.execute_reply": "2021-07-15T19:24:41.929627Z",
     "shell.execute_reply.started": "2021-07-15T18:10:02.058183Z"
    },
    "papermill": {
     "duration": 0.021238,
     "end_time": "2021-07-15T19:24:41.929744",
     "exception": false,
     "start_time": "2021-07-15T19:24:41.908506",
     "status": "completed"
    },
    "tags": []
   },
   "outputs": [
    {
     "data": {
      "text/plain": [
       "14338"
      ]
     },
     "execution_count": 3,
     "metadata": {},
     "output_type": "execute_result"
    }
   ],
   "source": [
    "len(data)"
   ]
  },
  {
   "cell_type": "code",
   "execution_count": 4,
   "id": "b4144793",
   "metadata": {
    "execution": {
     "iopub.execute_input": "2021-07-15T19:24:41.964395Z",
     "iopub.status.busy": "2021-07-15T19:24:41.963373Z",
     "iopub.status.idle": "2021-07-15T19:24:42.666474Z",
     "shell.execute_reply": "2021-07-15T19:24:42.667045Z",
     "shell.execute_reply.started": "2021-07-15T18:13:28.923841Z"
    },
    "papermill": {
     "duration": 0.725391,
     "end_time": "2021-07-15T19:24:42.667201",
     "exception": false,
     "start_time": "2021-07-15T19:24:41.941810",
     "status": "completed"
    },
    "tags": []
   },
   "outputs": [],
   "source": [
    "x=[]\n",
    "y=[]\n",
    "for features,labels in data:\n",
    "    x.append(features)\n",
    "    y.append(labels)\n",
    "x=np.array(x)\n",
    "y=np.array(y)\n",
    "from sklearn.model_selection import train_test_split\n",
    "X_train, X_test, y_train, y_test = train_test_split(x,y,test_size=0.10)\n",
    "\n",
    "\n",
    "\n"
   ]
  },
  {
   "cell_type": "code",
   "execution_count": 5,
   "id": "620a982a",
   "metadata": {
    "execution": {
     "iopub.execute_input": "2021-07-15T19:24:42.696570Z",
     "iopub.status.busy": "2021-07-15T19:24:42.695784Z",
     "iopub.status.idle": "2021-07-15T19:24:42.698582Z",
     "shell.execute_reply": "2021-07-15T19:24:42.698137Z",
     "shell.execute_reply.started": "2021-07-15T18:13:34.251014Z"
    },
    "papermill": {
     "duration": 0.018994,
     "end_time": "2021-07-15T19:24:42.698686",
     "exception": false,
     "start_time": "2021-07-15T19:24:42.679692",
     "status": "completed"
    },
    "tags": []
   },
   "outputs": [],
   "source": [
    "nsamples, nx, ny = X_train.shape\n",
    "x = X_train.reshape((nsamples,nx*ny))"
   ]
  },
  {
   "cell_type": "code",
   "execution_count": 6,
   "id": "133de7f6",
   "metadata": {
    "execution": {
     "iopub.execute_input": "2021-07-15T19:24:42.726732Z",
     "iopub.status.busy": "2021-07-15T19:24:42.726026Z",
     "iopub.status.idle": "2021-07-15T19:24:42.790941Z",
     "shell.execute_reply": "2021-07-15T19:24:42.790486Z",
     "shell.execute_reply.started": "2021-07-15T17:37:48.002392Z"
    },
    "papermill": {
     "duration": 0.080199,
     "end_time": "2021-07-15T19:24:42.791055",
     "exception": false,
     "start_time": "2021-07-15T19:24:42.710856",
     "status": "completed"
    },
    "tags": []
   },
   "outputs": [],
   "source": [
    "from sklearn.svm import SVC\n",
    "\n",
    "svm=SVC(C=1,kernel='poly',gamma='auto')\n",
    "\n"
   ]
  },
  {
   "cell_type": "code",
   "execution_count": 7,
   "id": "b29d1e42",
   "metadata": {
    "execution": {
     "iopub.execute_input": "2021-07-15T19:24:42.819749Z",
     "iopub.status.busy": "2021-07-15T19:24:42.818716Z",
     "iopub.status.idle": "2021-07-15T20:39:53.743313Z",
     "shell.execute_reply": "2021-07-15T20:39:53.742793Z"
    },
    "papermill": {
     "duration": 4510.940178,
     "end_time": "2021-07-15T20:39:53.743484",
     "exception": false,
     "start_time": "2021-07-15T19:24:42.803306",
     "status": "completed"
    },
    "tags": []
   },
   "outputs": [],
   "source": [
    "svm=svm.fit(x,y_train)\n"
   ]
  },
  {
   "cell_type": "code",
   "execution_count": 8,
   "id": "e4fa8273",
   "metadata": {
    "execution": {
     "iopub.execute_input": "2021-07-15T20:39:53.773136Z",
     "iopub.status.busy": "2021-07-15T20:39:53.772625Z",
     "iopub.status.idle": "2021-07-15T20:39:53.775940Z",
     "shell.execute_reply": "2021-07-15T20:39:53.776315Z",
     "shell.execute_reply.started": "2021-07-15T18:13:40.789129Z"
    },
    "papermill": {
     "duration": 0.019718,
     "end_time": "2021-07-15T20:39:53.776496",
     "exception": false,
     "start_time": "2021-07-15T20:39:53.756778",
     "status": "completed"
    },
    "tags": []
   },
   "outputs": [],
   "source": [
    "from sklearn.linear_model import LogisticRegression\n",
    "clf = LogisticRegression(solver='liblinear')\n"
   ]
  },
  {
   "cell_type": "code",
   "execution_count": 9,
   "id": "38e80624",
   "metadata": {
    "execution": {
     "iopub.execute_input": "2021-07-15T20:39:53.805163Z",
     "iopub.status.busy": "2021-07-15T20:39:53.804157Z",
     "iopub.status.idle": "2021-07-15T20:57:46.836304Z",
     "shell.execute_reply": "2021-07-15T20:57:46.836744Z",
     "shell.execute_reply.started": "2021-07-15T18:13:41.597680Z"
    },
    "papermill": {
     "duration": 1073.048029,
     "end_time": "2021-07-15T20:57:46.836900",
     "exception": false,
     "start_time": "2021-07-15T20:39:53.788871",
     "status": "completed"
    },
    "tags": []
   },
   "outputs": [
    {
     "data": {
      "text/plain": [
       "LogisticRegression(solver='liblinear')"
      ]
     },
     "execution_count": 9,
     "metadata": {},
     "output_type": "execute_result"
    }
   ],
   "source": [
    "clf.fit(x,y_train)"
   ]
  },
  {
   "cell_type": "code",
   "execution_count": 10,
   "id": "5963c3e0",
   "metadata": {
    "execution": {
     "iopub.execute_input": "2021-07-15T20:57:46.866082Z",
     "iopub.status.busy": "2021-07-15T20:57:46.865582Z",
     "iopub.status.idle": "2021-07-15T20:57:46.898279Z",
     "shell.execute_reply": "2021-07-15T20:57:46.898920Z",
     "shell.execute_reply.started": "2021-07-15T16:51:31.687063Z"
    },
    "papermill": {
     "duration": 0.049569,
     "end_time": "2021-07-15T20:57:46.899109",
     "exception": false,
     "start_time": "2021-07-15T20:57:46.849540",
     "status": "completed"
    },
    "tags": []
   },
   "outputs": [
    {
     "data": {
      "text/plain": [
       "array(['C'], dtype='<U1')"
      ]
     },
     "execution_count": 10,
     "metadata": {},
     "output_type": "execute_result"
    }
   ],
   "source": [
    "pathe='../input/blood-cells/dataset2-master/dataset2-master/images/TEST/EOSINOPHIL/_0_1616.jpeg'\n",
    "image=cv2.resize(cv2.imread(pathe,0),(100,100))\n",
    "clf.predict([image.flatten()])"
   ]
  },
  {
   "cell_type": "code",
   "execution_count": 11,
   "id": "38e11d77",
   "metadata": {
    "execution": {
     "iopub.execute_input": "2021-07-15T20:57:46.950943Z",
     "iopub.status.busy": "2021-07-15T20:57:46.950098Z",
     "iopub.status.idle": "2021-07-15T20:57:46.956099Z",
     "shell.execute_reply": "2021-07-15T20:57:46.956779Z"
    },
    "papermill": {
     "duration": 0.035183,
     "end_time": "2021-07-15T20:57:46.956955",
     "exception": false,
     "start_time": "2021-07-15T20:57:46.921772",
     "status": "completed"
    },
    "tags": []
   },
   "outputs": [
    {
     "data": {
      "text/plain": [
       "array(['B', 'C', 'D'], dtype='<U1')"
      ]
     },
     "execution_count": 11,
     "metadata": {},
     "output_type": "execute_result"
    }
   ],
   "source": [
    "np.unique(y_train)"
   ]
  },
  {
   "cell_type": "code",
   "execution_count": 12,
   "id": "8332d436",
   "metadata": {
    "execution": {
     "iopub.execute_input": "2021-07-15T20:57:47.011015Z",
     "iopub.status.busy": "2021-07-15T20:57:47.009171Z",
     "iopub.status.idle": "2021-07-15T20:57:47.011905Z",
     "shell.execute_reply": "2021-07-15T20:57:47.012596Z",
     "shell.execute_reply.started": "2021-07-15T16:51:24.884851Z"
    },
    "papermill": {
     "duration": 0.032719,
     "end_time": "2021-07-15T20:57:47.012791",
     "exception": false,
     "start_time": "2021-07-15T20:57:46.980072",
     "status": "completed"
    },
    "tags": []
   },
   "outputs": [],
   "source": [
    "pickle.dump(clf,open('clf.pkl','wb'))"
   ]
  },
  {
   "cell_type": "code",
   "execution_count": 13,
   "id": "2a82c6b7",
   "metadata": {
    "execution": {
     "iopub.execute_input": "2021-07-15T20:57:47.409429Z",
     "iopub.status.busy": "2021-07-15T20:57:47.408499Z",
     "iopub.status.idle": "2021-07-15T20:57:47.759074Z",
     "shell.execute_reply": "2021-07-15T20:57:47.758548Z",
     "shell.execute_reply.started": "2021-07-15T17:33:54.947099Z"
    },
    "papermill": {
     "duration": 0.728101,
     "end_time": "2021-07-15T20:57:47.759197",
     "exception": false,
     "start_time": "2021-07-15T20:57:47.031096",
     "status": "completed"
    },
    "tags": []
   },
   "outputs": [],
   "source": [
    "pickle.dump(svm,open('svm.pkl','wb'))"
   ]
  },
  {
   "cell_type": "code",
   "execution_count": 14,
   "id": "cbed4b95",
   "metadata": {
    "execution": {
     "iopub.execute_input": "2021-07-15T20:57:47.789661Z",
     "iopub.status.busy": "2021-07-15T20:57:47.788962Z",
     "iopub.status.idle": "2021-07-15T21:01:10.033025Z",
     "shell.execute_reply": "2021-07-15T21:01:10.032175Z",
     "shell.execute_reply.started": "2021-07-15T18:10:20.230351Z"
    },
    "papermill": {
     "duration": 202.260417,
     "end_time": "2021-07-15T21:01:10.033171",
     "exception": false,
     "start_time": "2021-07-15T20:57:47.772754",
     "status": "completed"
    },
    "tags": []
   },
   "outputs": [],
   "source": [
    "from sklearn import tree\n",
    "dtree=tree.DecisionTreeClassifier().fit(x,y_train)"
   ]
  },
  {
   "cell_type": "code",
   "execution_count": 15,
   "id": "1840cde6",
   "metadata": {
    "execution": {
     "iopub.execute_input": "2021-07-15T21:01:10.065052Z",
     "iopub.status.busy": "2021-07-15T21:01:10.064180Z",
     "iopub.status.idle": "2021-07-15T21:01:10.066901Z",
     "shell.execute_reply": "2021-07-15T21:01:10.066486Z",
     "shell.execute_reply.started": "2021-07-15T18:14:51.635193Z"
    },
    "papermill": {
     "duration": 0.019963,
     "end_time": "2021-07-15T21:01:10.067008",
     "exception": false,
     "start_time": "2021-07-15T21:01:10.047045",
     "status": "completed"
    },
    "tags": []
   },
   "outputs": [],
   "source": [
    "nsamples, nx, ny =X_test.shape\n",
    "X_test = X_test.reshape((nsamples,nx*ny))"
   ]
  },
  {
   "cell_type": "code",
   "execution_count": 16,
   "id": "3fd8a7fe",
   "metadata": {
    "execution": {
     "iopub.execute_input": "2021-07-15T21:01:10.097612Z",
     "iopub.status.busy": "2021-07-15T21:01:10.096567Z",
     "iopub.status.idle": "2021-07-15T21:01:10.156692Z",
     "shell.execute_reply": "2021-07-15T21:01:10.157523Z",
     "shell.execute_reply.started": "2021-07-15T18:14:52.559047Z"
    },
    "papermill": {
     "duration": 0.077518,
     "end_time": "2021-07-15T21:01:10.157777",
     "exception": false,
     "start_time": "2021-07-15T21:01:10.080259",
     "status": "completed"
    },
    "tags": []
   },
   "outputs": [
    {
     "data": {
      "text/plain": [
       "0.7845188284518828"
      ]
     },
     "execution_count": 16,
     "metadata": {},
     "output_type": "execute_result"
    }
   ],
   "source": [
    "clf.score(X_test,y_test)"
   ]
  },
  {
   "cell_type": "code",
   "execution_count": null,
   "id": "c26b96b8",
   "metadata": {
    "papermill": {
     "duration": 0.02426,
     "end_time": "2021-07-15T21:01:10.208251",
     "exception": false,
     "start_time": "2021-07-15T21:01:10.183991",
     "status": "completed"
    },
    "tags": []
   },
   "outputs": [],
   "source": []
  }
 ],
 "metadata": {
  "kernelspec": {
   "display_name": "Python 3",
   "language": "python",
   "name": "python3"
  },
  "language_info": {
   "codemirror_mode": {
    "name": "ipython",
    "version": 3
   },
   "file_extension": ".py",
   "mimetype": "text/x-python",
   "name": "python",
   "nbconvert_exporter": "python",
   "pygments_lexer": "ipython3",
   "version": "3.7.10"
  },
  "papermill": {
   "default_parameters": {},
   "duration": 5895.441906,
   "end_time": "2021-07-15T21:01:11.049861",
   "environment_variables": {},
   "exception": null,
   "input_path": "__notebook__.ipynb",
   "output_path": "__notebook__.ipynb",
   "parameters": {},
   "start_time": "2021-07-15T19:22:55.607955",
   "version": "2.3.3"
  }
 },
 "nbformat": 4,
 "nbformat_minor": 5
}
